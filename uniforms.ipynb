{
 "cells": [
  {
   "cell_type": "code",
   "execution_count": 29,
   "id": "286dd04a-08cd-4dfe-bc21-b1ffc9769f02",
   "metadata": {},
   "outputs": [
    {
     "name": "stdout",
     "output_type": "stream",
     "text": [
      "cuda:0\n"
     ]
    }
   ],
   "source": [
    "import os\n",
    "\n",
    "import torch\n",
    "from torch import nn\n",
    "from torch import optim\n",
    "\n",
    "device = torch.device(\"cuda:0\" if torch.cuda.is_available() else \"cpu\")\n",
    "print(device)"
   ]
  },
  {
   "cell_type": "code",
   "execution_count": 30,
   "id": "4666b53a-a9b4-40f3-90d1-021c327731a4",
   "metadata": {},
   "outputs": [],
   "source": [
    "from nflows.flows.base import Flow\n",
    "from nflows.distributions.normal import StandardNormal\n",
    "from nflows.distributions.uniform import BoxUniform\n",
    "from nflows.transforms.base import CompositeTransform\n",
    "from nflows.transforms.autoregressive import MaskedAffineAutoregressiveTransform\n",
    "from nflows.transforms.autoregressive import MaskedPiecewiseQuadraticAutoregressiveTransform\n",
    "from nflows.transforms.permutations import ReversePermutation\n",
    "\n",
    "import tqdm as tqdm\n",
    "import numpy as np\n",
    "from scipy import stats\n",
    "import matplotlib.pyplot as plt"
   ]
  },
  {
   "cell_type": "code",
   "execution_count": 31,
   "id": "defe430d-fdab-420d-923c-aa16096d01d9",
   "metadata": {},
   "outputs": [],
   "source": [
    "def make_checkpoint(flow, optimizer, loss, filename):\n",
    "    torch.save({'model_state_dict': flow.state_dict(),\n",
    "                'optimizer_state_dict': optimizer.state_dict(),\n",
    "                'loss': loss,\n",
    "               }, \n",
    "               filename)\n",
    "\n",
    "def make_flow(d, num_layers = 5):\n",
    "    base_dist = StandardNormal(shape=[d])\n",
    "    #base_dist = BoxUniform(low = -2*torch.ones(d), high = 2*torch.ones(d))\n",
    "    \n",
    "    transforms = []\n",
    "    for _ in range(num_layers):\n",
    "        transforms.append(ReversePermutation(features=d))\n",
    "        transforms.append(MaskedAffineAutoregressiveTransform(features=d, \n",
    "                                                              hidden_features=8))\n",
    "    transform = CompositeTransform(transforms)\n",
    "    \n",
    "    return Flow(transform, base_dist)\n",
    "\n",
    "def train_flow(flow, optimizer, data, dir, num_iter = 10000):\n",
    "    losses = np.zeros(num_iter)\n",
    "    print(-flow.log_prob(inputs=data).mean())\n",
    "    for i in tqdm.trange(num_iter):\n",
    "        optimizer.zero_grad()\n",
    "        loss = -flow.log_prob(inputs=data).mean()\n",
    "        losses[i] = loss\n",
    "        \n",
    "        loss.backward()\n",
    "        optimizer.step()\n",
    "        if i % 100 == 0:\n",
    "            np.save(dir + 'losses.npy', losses)\n",
    "            make_checkpoint(flow, optimizer, loss, dir + 'ckpt_{}'.format(i))\n",
    "            \n",
    "    make_checkpoint(flow, optimizer, loss, dir + 'ckpt_{}'.format(num_iter))\n",
    "    np.save(dir + 'losses.npy', losses)"
   ]
  },
  {
   "cell_type": "code",
   "execution_count": 32,
   "id": "3139bf0e-8113-4622-9544-1f91d0a4e386",
   "metadata": {},
   "outputs": [],
   "source": [
    "def marginal_X(X, log_prob):\n",
    "    X = X.repeat_interleave(101).reshape(-1, 1)\n",
    "    \n",
    "    Y = torch.linspace(-0.5, 1.5, 101).reshape(-1, 1)\n",
    "    Y = Y.repeat(n, 1)\n",
    "    Y = Y.to(device)\n",
    "\n",
    "    XY = torch.cat([X, Y], dim = 1)\n",
    "    LP = flow_XY.log_prob(XY)\n",
    "    PX = []\n",
    "    for i in range(n):\n",
    "        PX += [torch.trapezoid(torch.exp(LP[101 * i : 101 * (i + 1)]), dx = 0.02)]\n",
    "    return torch.stack(PX, dim = 0)\n",
    "\n",
    "def marginal_Y(Y, log_prob):\n",
    "    Y = Y.repeat_interleave(101).reshape(-1, 1)\n",
    "    \n",
    "    X = torch.linspace(-0.5, 1.5, 101).reshape(-1, 1)\n",
    "    X = X.repeat(n, 1)\n",
    "    X = X.to(device)\n",
    "\n",
    "    XY = torch.cat([X, Y], dim = 1)\n",
    "    LP = flow_XY.log_prob(XY)\n",
    "    PY = []\n",
    "    for i in range(n):\n",
    "        PY += [torch.trapezoid(torch.exp(LP[101 * i : 101 * (i + 1)]), dx = 0.02)]\n",
    "    return torch.stack(PY, dim = 0)"
   ]
  },
  {
   "cell_type": "code",
   "execution_count": 33,
   "id": "d04c1d03-b71e-40f1-a7ea-3bbef37ac2e6",
   "metadata": {
    "scrolled": true
   },
   "outputs": [
    {
     "data": {
      "text/plain": [
       "tensor([[0.6844],\n",
       "        [0.8183],\n",
       "        [0.4564],\n",
       "        ...,\n",
       "        [0.0901],\n",
       "        [0.0151],\n",
       "        [0.0290]], device='cuda:0')"
      ]
     },
     "execution_count": 33,
     "metadata": {},
     "output_type": "execute_result"
    }
   ],
   "source": [
    "np.random.seed(666)\n",
    "\n",
    "n = 10000\n",
    "r = 0\n",
    "\n",
    "C = stats.multivariate_normal.rvs(np.zeros(2), [[1, r],[r, 1]], size = n)\n",
    "D = stats.norm.cdf(C)\n",
    "U = D[:, 0].reshape(n, 1)\n",
    "V = D[:, 1].reshape(n, 1)\n",
    "\n",
    "D = torch.tensor(D, dtype = torch.float32).cuda()\n",
    "U = torch.tensor(U, dtype = torch.float32).cuda()\n",
    "V = torch.tensor(V, dtype = torch.float32).cuda()\n",
    "D.to(device)\n",
    "U.to(device)\n",
    "V.to(device)"
   ]
  },
  {
   "cell_type": "code",
   "execution_count": 34,
   "id": "6d5c111a-270d-4bcf-9db6-139018b1807e",
   "metadata": {},
   "outputs": [
    {
     "name": "stdout",
     "output_type": "stream",
     "text": [
      "tensor(5.9043, device='cuda:0', grad_fn=<NegBackward0>)\n"
     ]
    },
    {
     "name": "stderr",
     "output_type": "stream",
     "text": [
      "100%|██████████| 10000/10000 [02:12<00:00, 75.47it/s]\n"
     ]
    }
   ],
   "source": [
    "flow_XY = make_flow(d = 2)\n",
    "flow_XY.to(device)\n",
    "optimizer_XY = optim.Adam(flow_XY.parameters())\n",
    "\n",
    "os.makedirs('XY', exist_ok = True)\n",
    "train_flow(flow_XY, optimizer_XY, D, 'XY/')"
   ]
  },
  {
   "cell_type": "raw",
   "id": "d1e0fa25-d7e2-49e9-a072-c6fccd079293",
   "metadata": {},
   "source": [
    "flow_X = make_flow(d = 1)\n",
    "flow_X.to(device)\n",
    "optimizer_X = optim.Adam(flow_X.parameters())\n",
    "\n",
    "os.makedirs('X', exist_ok = True)\n",
    "train_flow(flow_X, optimizer_X, U, 'X/')"
   ]
  },
  {
   "cell_type": "raw",
   "id": "422abbba-ab15-4373-b2c3-0a31deb35d39",
   "metadata": {},
   "source": [
    "flow_Y = make_flow(d = 1)\n",
    "flow_Y.to(device)\n",
    "optimizer_Y = optim.Adam(flow_Y.parameters())\n",
    "\n",
    "os.makedirs('Y', exist_ok = True)\n",
    "train_flow(flow_Y, optimizer_Y, V, 'Y/')"
   ]
  },
  {
   "cell_type": "code",
   "execution_count": 6,
   "id": "dd0fe1d5-3dc2-4d2f-a4c5-2881329ae8a1",
   "metadata": {},
   "outputs": [],
   "source": [
    "flow_XY.eval();"
   ]
  },
  {
   "cell_type": "raw",
   "id": "87a7bb61-b0ac-46f0-a9b3-d1bb0c442beb",
   "metadata": {},
   "source": [
    "flow_X.log_prob(U).mean() + flow_Y.log_prob(V).mean() - flow_XY.log_prob(D).mean()"
   ]
  },
  {
   "cell_type": "markdown",
   "id": "a0c02007-9e25-43d2-9c8d-88cd324de9b9",
   "metadata": {},
   "source": [
    "# Marginals"
   ]
  },
  {
   "cell_type": "raw",
   "id": "15c9023f-4b8b-42c8-801e-fae4b59967d8",
   "metadata": {},
   "source": [
    "x = -0.9*torch.ones(1001).reshape(1001, 1).to(device)\n",
    "y = torch.linspace(-1, 2, 1001).reshape(1001, 1).to(device)\n",
    "xy = torch.cat([x, y], dim = 1).to(device)"
   ]
  },
  {
   "cell_type": "raw",
   "id": "a436e87c-b846-4171-b0f9-0e1444e08116",
   "metadata": {},
   "source": [
    "torch.trapezoid(torch.exp(flow_XY.log_prob(xy)), dx=0.003)"
   ]
  },
  {
   "cell_type": "code",
   "execution_count": 21,
   "id": "fdc2c77f-7174-476f-b086-b2bd88d44c20",
   "metadata": {},
   "outputs": [],
   "source": []
  },
  {
   "cell_type": "code",
   "execution_count": 26,
   "id": "3f5fa711-7a36-4a38-8dad-d0da58b2dbc0",
   "metadata": {},
   "outputs": [],
   "source": [
    "LPX = torch.log(marginal_X(U, flow_XY.log_prob))"
   ]
  },
  {
   "cell_type": "code",
   "execution_count": 27,
   "id": "ebfc3d90-bf43-452a-a913-7034a511e479",
   "metadata": {},
   "outputs": [],
   "source": [
    "LPY = torch.log(marginal_Y(V, flow_XY.log_prob))"
   ]
  },
  {
   "cell_type": "code",
   "execution_count": 28,
   "id": "66277fdf-13f8-4de6-b742-e454fffe9341",
   "metadata": {},
   "outputs": [
    {
     "data": {
      "text/plain": [
       "tensor(-0.0019, device='cuda:0', grad_fn=<SubBackward0>)"
      ]
     },
     "execution_count": 28,
     "metadata": {},
     "output_type": "execute_result"
    }
   ],
   "source": [
    "LPX.mean() + LPY.mean() - flow_XY.log_prob(D).mean()"
   ]
  },
  {
   "cell_type": "code",
   "execution_count": 10,
   "id": "dd7a02ed-4a46-4992-b26d-90336b253557",
   "metadata": {},
   "outputs": [],
   "source": [
    "X = U.repeat_interleave(101).reshape(-1, 1)"
   ]
  },
  {
   "cell_type": "code",
   "execution_count": 11,
   "id": "2159ef5e-1993-452e-b110-e74d9f86b6d7",
   "metadata": {},
   "outputs": [],
   "source": [
    "Y = torch.linspace(-0.5, 1.5, 101).reshape(-1, 1)\n",
    "Y = Y.repeat(U.size(0), 1)\n",
    "Y = Y.to(device)"
   ]
  },
  {
   "cell_type": "code",
   "execution_count": 12,
   "id": "52ea9900-bdf8-4d43-b487-9a2becd09747",
   "metadata": {},
   "outputs": [],
   "source": [
    "XY = torch.cat([X, Y], dim = 1)"
   ]
  },
  {
   "cell_type": "code",
   "execution_count": 13,
   "id": "b9bedb0f-b2c7-4d59-bc79-c48637d92d8d",
   "metadata": {},
   "outputs": [],
   "source": [
    "PP = flow_XY.log_prob(XY)"
   ]
  },
  {
   "cell_type": "code",
   "execution_count": 17,
   "id": "8080257e-f289-4c61-af3d-d66453b46bf3",
   "metadata": {},
   "outputs": [],
   "source": [
    "PX = []\n",
    "for i in range(n):\n",
    "    PX += [torch.trapezoid(torch.exp(PP[101 * i : 101 * (i + 1)]), dx = 0.02)]\n",
    "PX = torch.stack(PX, dim = 0)"
   ]
  },
  {
   "cell_type": "code",
   "execution_count": 16,
   "id": "4ba2b4f1-2912-4e4f-bff9-eafc0d533bd1",
   "metadata": {},
   "outputs": [
    {
     "data": {
      "text/plain": [
       "tensor([0.9679, 1.0397, 1.0386,  ..., 0.9619, 0.9605, 0.9676], device='cuda:0',\n",
       "       grad_fn=<StackBackward0>)"
      ]
     },
     "execution_count": 16,
     "metadata": {},
     "output_type": "execute_result"
    }
   ],
   "source": [
    "torch.stack(PX, dim = 0)"
   ]
  },
  {
   "cell_type": "code",
   "execution_count": null,
   "id": "dadfcfc0-2c40-409a-8867-7b74804973a4",
   "metadata": {},
   "outputs": [],
   "source": [
    "PX = [torch.trapezoid(torch.exp(PP[101*i:101*(i + 1)]), dx=0.02) for i in range(U.size(0))]"
   ]
  },
  {
   "cell_type": "code",
   "execution_count": null,
   "id": "18b3196d-360f-493b-bfd2-0390fed90bd8",
   "metadata": {},
   "outputs": [],
   "source": [
    "def prob_X(x):\n",
    "    x = x*torch.ones(101).reshape(101, 1).to(device)\n",
    "    y = torch.linspace(-1, 2, 101).reshape(101, 1).to(device)\n",
    "    xy = torch.cat([x, y], dim = 1).to(device)\n",
    "    return torch.trapezoid(torch.exp(flow_XY.log_prob(xy)), dx=0.03)"
   ]
  },
  {
   "cell_type": "code",
   "execution_count": null,
   "id": "e0a11179-12f8-45f1-8b01-4e3197ab8456",
   "metadata": {
    "scrolled": true
   },
   "outputs": [],
   "source": [
    "[print(prob_X(u)) for u in U]"
   ]
  },
  {
   "cell_type": "markdown",
   "id": "cb592c13-d71f-4001-99fb-f9ac0bb97943",
   "metadata": {},
   "source": [
    "# $p$ Value"
   ]
  },
  {
   "cell_type": "code",
   "execution_count": null,
   "id": "7a98dd53-9cd0-4336-b465-d379fdb2e290",
   "metadata": {
    "scrolled": true
   },
   "outputs": [],
   "source": [
    "reps = 10000\n",
    "ss = np.zeros(reps)\n",
    "\n",
    "for i in range(reps):\n",
    "    idx = np.random.choice(n, size = n)\n",
    "    DD = D[idx]\n",
    "    UU = D[:, 0].reshape(n, 1)\n",
    "    VV = D[:, 1].reshape(n, 1)\n",
    "\n",
    "    ss[i] = flow_X.log_prob(UU).mean() + flow_Y.log_prob(VV).mean() - flow_XY.log_prob(DD).mean()\n",
    "    print(ss[i])"
   ]
  },
  {
   "cell_type": "code",
   "execution_count": null,
   "id": "676359d0-3aaf-425f-9387-a28ce2983390",
   "metadata": {},
   "outputs": [],
   "source": [
    "plt.scatter(S[:, 0], S[:, 1])"
   ]
  }
 ],
 "metadata": {
  "kernelspec": {
   "display_name": "test",
   "language": "python",
   "name": "test"
  },
  "language_info": {
   "codemirror_mode": {
    "name": "ipython",
    "version": 3
   },
   "file_extension": ".py",
   "mimetype": "text/x-python",
   "name": "python",
   "nbconvert_exporter": "python",
   "pygments_lexer": "ipython3",
   "version": "3.11.5"
  }
 },
 "nbformat": 4,
 "nbformat_minor": 5
}
