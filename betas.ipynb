{
 "cells": [
  {
   "cell_type": "code",
   "execution_count": 1,
   "id": "286dd04a-08cd-4dfe-bc21-b1ffc9769f02",
   "metadata": {},
   "outputs": [
    {
     "name": "stdout",
     "output_type": "stream",
     "text": [
      "cuda:0\n"
     ]
    }
   ],
   "source": [
    "import torch\n",
    "from torch import nn\n",
    "from torch import optim\n",
    "\n",
    "device = torch.device(\"cuda:0\" if torch.cuda.is_available() else \"cpu\")\n",
    "print(device)"
   ]
  },
  {
   "cell_type": "code",
   "execution_count": 2,
   "id": "4666b53a-a9b4-40f3-90d1-021c327731a4",
   "metadata": {},
   "outputs": [],
   "source": [
    "from nflows.flows.base import Flow\n",
    "from nflows.distributions.normal import StandardNormal\n",
    "from nflows.transforms.base import CompositeTransform\n",
    "from nflows.transforms.autoregressive import MaskedAffineAutoregressiveTransform\n",
    "from nflows.transforms.permutations import ReversePermutation\n",
    "\n",
    "import tqdm as tqdm\n",
    "import numpy as np\n",
    "from scipy import stats\n",
    "import matplotlib.pyplot as plt"
   ]
  },
  {
   "cell_type": "code",
   "execution_count": 3,
   "id": "d04c1d03-b71e-40f1-a7ea-3bbef37ac2e6",
   "metadata": {
    "scrolled": true
   },
   "outputs": [],
   "source": [
    "np.random.seed(666)\n",
    "\n",
    "α = np.pi/4\n",
    "n = 100000\n",
    "d = 2\n",
    "a = 1\n",
    "b = np.sqrt(2 - a**2)\n",
    "\n",
    "R = np.array([[np.cos(α), -np.sin(α)], [np.sin(α), np.cos(α)]])\n",
    "U = stats.uniform.rvs(scale = 2*np.pi, size = n)\n",
    "V = np.vstack([a * np.cos(U), b * np.sin(U)])\n",
    "D = (R @ V).T\n",
    "X = D[:, 0].reshape(n, 1)\n",
    "Y = D[:, 1].reshape(n, 1)"
   ]
  },
  {
   "cell_type": "code",
   "execution_count": 4,
   "id": "c35459bc-bdd4-428f-b35d-11d1e4adb6e0",
   "metadata": {},
   "outputs": [
    {
     "data": {
      "text/plain": [
       "tensor([[-0.8898],\n",
       "        [-0.1924],\n",
       "        [-0.9481],\n",
       "        ...,\n",
       "        [-0.1823],\n",
       "        [ 0.9978],\n",
       "        [ 0.3955]], device='cuda:0')"
      ]
     },
     "execution_count": 4,
     "metadata": {},
     "output_type": "execute_result"
    }
   ],
   "source": [
    "D = torch.tensor(D, dtype = torch.float32).cuda()\n",
    "X = torch.tensor(X, dtype = torch.float32).cuda()\n",
    "Y = torch.tensor(Y, dtype = torch.float32).cuda()\n",
    "D.to(device)\n",
    "X.to(device)\n",
    "Y.to(device)"
   ]
  },
  {
   "cell_type": "code",
   "execution_count": 5,
   "id": "b112c06e-dd66-4c72-8d38-b43d6829f933",
   "metadata": {},
   "outputs": [],
   "source": [
    "def make_checkpoint(flow, optimizer, loss, filename):\n",
    "    torch.save({'model_state_dict': flow.state_dict(),\n",
    "                'optimizer_state_dict': optimizer.state_dict(),\n",
    "                'loss': loss,\n",
    "               }, \n",
    "               filename)"
   ]
  },
  {
   "cell_type": "code",
   "execution_count": 6,
   "id": "b9bf56dc-0035-44ee-8a90-c8d60b98a633",
   "metadata": {},
   "outputs": [],
   "source": [
    "d = 2\n",
    "num_layers = 5\n",
    "base_dist = StandardNormal(shape=[d])\n",
    "\n",
    "transforms = []\n",
    "for _ in range(num_layers):\n",
    "    transforms.append(ReversePermutation(features=d))\n",
    "    transforms.append(MaskedAffineAutoregressiveTransform(features=d, \n",
    "                                                          hidden_features=8))\n",
    "transform = CompositeTransform(transforms)\n",
    "\n",
    "flow_XY = Flow(transform, base_dist)\n",
    "flow_XY.to(device)\n",
    "optimizer = optim.Adam(flow_XY.parameters())"
   ]
  },
  {
   "cell_type": "code",
   "execution_count": 7,
   "id": "352e68e1-ff53-445f-a8c4-bcb3368452a5",
   "metadata": {},
   "outputs": [
    {
     "name": "stdout",
     "output_type": "stream",
     "text": [
      "tensor(5.5933, device='cuda:0', grad_fn=<NegBackward0>)\n"
     ]
    },
    {
     "name": "stderr",
     "output_type": "stream",
     "text": [
      "100%|██████████| 10000/10000 [01:53<00:00, 88.25it/s]\n"
     ]
    }
   ],
   "source": [
    "# Train flow.\n",
    "trn_dir = 'betas/'\n",
    "num_iter = 10000 # Use dataset 10,000 times.\n",
    "losses = np.zeros(num_iter)\n",
    "\n",
    "best = np.inf * np.ones(10)\n",
    "print(-flow_XY.log_prob(inputs=D).mean())\n",
    "for i in tqdm.trange(num_iter):\n",
    "    optimizer.zero_grad()\n",
    "    loss = -flow_XY.log_prob(inputs=D).mean()\n",
    "    losses[i] = loss\n",
    "    \n",
    "    loss.backward()\n",
    "    optimizer.step()\n",
    "    if i % 100 == 0:\n",
    "        np.save(trn_dir + 'losses.npy', losses)\n",
    "        make_checkpoint(flow_XY, optimizer, loss, trn_dir + 'ckpt_{}'.format(i))\n",
    "        \n",
    "    if losses[i] < max(best):\n",
    "        idx = np.argmax(best)\n",
    "        make_checkpoint(flow_XY, optimizer, loss, trn_dir + 'best/ckpt_{}'.format(idx))\n",
    "        best[idx] = losses[i]\n",
    "        np.save(trn_dir + 'best.npy', best)\n",
    "        \n",
    "make_checkpoint(flow_XY, optimizer, loss, trn_dir + 'ckpt_{}'.format(num_iter))\n",
    "np.save(trn_dir + 'losses.npy', losses)"
   ]
  },
  {
   "cell_type": "code",
   "execution_count": 8,
   "id": "2130e17f-4910-4d0a-8e64-2eadb809f7c2",
   "metadata": {},
   "outputs": [],
   "source": [
    "d = 1\n",
    "num_layers = 5\n",
    "base_dist = StandardNormal(shape=[d])\n",
    "\n",
    "transforms = []\n",
    "for _ in range(num_layers):\n",
    "    transforms.append(ReversePermutation(features=d))\n",
    "    transforms.append(MaskedAffineAutoregressiveTransform(features=d, \n",
    "                                                          hidden_features=8))\n",
    "transform = CompositeTransform(transforms)\n",
    "\n",
    "flow_X = Flow(transform, base_dist)\n",
    "flow_X.to(device)\n",
    "optimizer = optim.Adam(flow_X.parameters())"
   ]
  },
  {
   "cell_type": "code",
   "execution_count": 9,
   "id": "1f5a8344-dd68-411c-b464-b6c2b8e9bdd6",
   "metadata": {},
   "outputs": [
    {
     "name": "stdout",
     "output_type": "stream",
     "text": [
      "tensor(3.6001, device='cuda:0', grad_fn=<NegBackward0>)\n"
     ]
    },
    {
     "name": "stderr",
     "output_type": "stream",
     "text": [
      "100%|██████████| 10000/10000 [01:36<00:00, 103.74it/s]\n"
     ]
    }
   ],
   "source": [
    "# Train flow.\n",
    "trn_dir = 'betas/'\n",
    "num_iter = 10000 # Use dataset 10,000 times.\n",
    "losses = np.zeros(num_iter)\n",
    "\n",
    "best = np.inf * np.ones(10)\n",
    "print(-flow_X.log_prob(inputs=X).mean())\n",
    "for i in tqdm.trange(num_iter):\n",
    "    optimizer.zero_grad()\n",
    "    loss = -flow_X.log_prob(inputs=X).mean()\n",
    "    losses[i] = loss\n",
    "    \n",
    "    loss.backward()\n",
    "    optimizer.step()\n",
    "    if i % 100 == 0:\n",
    "        np.save(trn_dir + 'losses.npy', losses)\n",
    "        make_checkpoint(flow_X, optimizer, loss, trn_dir + 'ckpt_{}'.format(i))\n",
    "        \n",
    "    if losses[i] < max(best):\n",
    "        idx = np.argmax(best)\n",
    "        make_checkpoint(flow_X, optimizer, loss, trn_dir + 'best/ckpt_{}'.format(idx))\n",
    "        best[idx] = losses[i]\n",
    "        np.save(trn_dir + 'best.npy', best)\n",
    "        \n",
    "make_checkpoint(flow_X, optimizer, loss, trn_dir + 'ckpt_{}'.format(num_iter))\n",
    "np.save(trn_dir + 'losses.npy', losses)"
   ]
  },
  {
   "cell_type": "code",
   "execution_count": 10,
   "id": "da64a071-1e73-4d2e-a37d-4cac62e92cc7",
   "metadata": {},
   "outputs": [],
   "source": [
    "d = 1\n",
    "num_layers = 5\n",
    "base_dist = StandardNormal(shape=[d])\n",
    "\n",
    "transforms = []\n",
    "for _ in range(num_layers):\n",
    "    transforms.append(ReversePermutation(features=d))\n",
    "    transforms.append(MaskedAffineAutoregressiveTransform(features=d, \n",
    "                                                          hidden_features=8))\n",
    "transform = CompositeTransform(transforms)\n",
    "\n",
    "flow_Y = Flow(transform, base_dist)\n",
    "flow_Y.to(device)\n",
    "optimizer = optim.Adam(flow_Y.parameters())"
   ]
  },
  {
   "cell_type": "code",
   "execution_count": 11,
   "id": "fe17c144-5695-4498-9551-e067e0620b53",
   "metadata": {},
   "outputs": [
    {
     "name": "stdout",
     "output_type": "stream",
     "text": [
      "tensor(2.6505, device='cuda:0', grad_fn=<NegBackward0>)\n"
     ]
    },
    {
     "name": "stderr",
     "output_type": "stream",
     "text": [
      "100%|██████████| 10000/10000 [01:33<00:00, 106.47it/s]\n"
     ]
    }
   ],
   "source": [
    "# Train flow.\n",
    "trn_dir = 'betas/'\n",
    "num_iter = 10000 # Use dataset 10,000 times.\n",
    "losses = np.zeros(num_iter)\n",
    "\n",
    "best = np.inf * np.ones(10)\n",
    "print(-flow_Y.log_prob(inputs=Y).mean())\n",
    "for i in tqdm.trange(num_iter):\n",
    "    optimizer.zero_grad()\n",
    "    loss = -flow_Y.log_prob(inputs=Y).mean()\n",
    "    losses[i] = loss\n",
    "    \n",
    "    loss.backward()\n",
    "    optimizer.step()\n",
    "    if i % 100 == 0:\n",
    "        np.save(trn_dir + 'losses.npy', losses)\n",
    "        make_checkpoint(flow_Y, optimizer, loss, trn_dir + 'ckpt_{}'.format(i))\n",
    "        \n",
    "    if losses[i] < max(best):\n",
    "        idx = np.argmax(best)\n",
    "        make_checkpoint(flow_Y, optimizer, loss, trn_dir + 'best/ckpt_{}'.format(idx))\n",
    "        best[idx] = losses[i]\n",
    "        np.save(trn_dir + 'best.npy', best)\n",
    "        \n",
    "make_checkpoint(flow_Y, optimizer, loss, trn_dir + 'ckpt_{}'.format(num_iter))\n",
    "np.save(trn_dir + 'losses.npy', losses)"
   ]
  },
  {
   "cell_type": "code",
   "execution_count": 15,
   "id": "5763cec7-e955-4f4b-970b-c7343ce021fe",
   "metadata": {},
   "outputs": [
    {
     "data": {
      "text/plain": [
       "Flow(\n",
       "  (_transform): CompositeTransform(\n",
       "    (_transforms): ModuleList(\n",
       "      (0): ReversePermutation()\n",
       "      (1): MaskedAffineAutoregressiveTransform(\n",
       "        (autoregressive_net): MADE(\n",
       "          (initial_layer): MaskedLinear(in_features=1, out_features=8, bias=True)\n",
       "          (blocks): ModuleList(\n",
       "            (0-1): 2 x MaskedResidualBlock(\n",
       "              (linear_layers): ModuleList(\n",
       "                (0-1): 2 x MaskedLinear(in_features=8, out_features=8, bias=True)\n",
       "              )\n",
       "              (dropout): Dropout(p=0.0, inplace=False)\n",
       "            )\n",
       "          )\n",
       "          (final_layer): MaskedLinear(in_features=8, out_features=2, bias=True)\n",
       "        )\n",
       "      )\n",
       "      (2): ReversePermutation()\n",
       "      (3): MaskedAffineAutoregressiveTransform(\n",
       "        (autoregressive_net): MADE(\n",
       "          (initial_layer): MaskedLinear(in_features=1, out_features=8, bias=True)\n",
       "          (blocks): ModuleList(\n",
       "            (0-1): 2 x MaskedResidualBlock(\n",
       "              (linear_layers): ModuleList(\n",
       "                (0-1): 2 x MaskedLinear(in_features=8, out_features=8, bias=True)\n",
       "              )\n",
       "              (dropout): Dropout(p=0.0, inplace=False)\n",
       "            )\n",
       "          )\n",
       "          (final_layer): MaskedLinear(in_features=8, out_features=2, bias=True)\n",
       "        )\n",
       "      )\n",
       "      (4): ReversePermutation()\n",
       "      (5): MaskedAffineAutoregressiveTransform(\n",
       "        (autoregressive_net): MADE(\n",
       "          (initial_layer): MaskedLinear(in_features=1, out_features=8, bias=True)\n",
       "          (blocks): ModuleList(\n",
       "            (0-1): 2 x MaskedResidualBlock(\n",
       "              (linear_layers): ModuleList(\n",
       "                (0-1): 2 x MaskedLinear(in_features=8, out_features=8, bias=True)\n",
       "              )\n",
       "              (dropout): Dropout(p=0.0, inplace=False)\n",
       "            )\n",
       "          )\n",
       "          (final_layer): MaskedLinear(in_features=8, out_features=2, bias=True)\n",
       "        )\n",
       "      )\n",
       "      (6): ReversePermutation()\n",
       "      (7): MaskedAffineAutoregressiveTransform(\n",
       "        (autoregressive_net): MADE(\n",
       "          (initial_layer): MaskedLinear(in_features=1, out_features=8, bias=True)\n",
       "          (blocks): ModuleList(\n",
       "            (0-1): 2 x MaskedResidualBlock(\n",
       "              (linear_layers): ModuleList(\n",
       "                (0-1): 2 x MaskedLinear(in_features=8, out_features=8, bias=True)\n",
       "              )\n",
       "              (dropout): Dropout(p=0.0, inplace=False)\n",
       "            )\n",
       "          )\n",
       "          (final_layer): MaskedLinear(in_features=8, out_features=2, bias=True)\n",
       "        )\n",
       "      )\n",
       "      (8): ReversePermutation()\n",
       "      (9): MaskedAffineAutoregressiveTransform(\n",
       "        (autoregressive_net): MADE(\n",
       "          (initial_layer): MaskedLinear(in_features=1, out_features=8, bias=True)\n",
       "          (blocks): ModuleList(\n",
       "            (0-1): 2 x MaskedResidualBlock(\n",
       "              (linear_layers): ModuleList(\n",
       "                (0-1): 2 x MaskedLinear(in_features=8, out_features=8, bias=True)\n",
       "              )\n",
       "              (dropout): Dropout(p=0.0, inplace=False)\n",
       "            )\n",
       "          )\n",
       "          (final_layer): MaskedLinear(in_features=8, out_features=2, bias=True)\n",
       "        )\n",
       "      )\n",
       "    )\n",
       "  )\n",
       "  (_distribution): StandardNormal()\n",
       "  (_embedding_net): Identity()\n",
       ")"
      ]
     },
     "execution_count": 15,
     "metadata": {},
     "output_type": "execute_result"
    }
   ],
   "source": [
    "flow_X.eval();"
   ]
  },
  {
   "cell_type": "code",
   "execution_count": 12,
   "id": "3dfd20d3-40cb-49b9-91f2-79a602c064dc",
   "metadata": {},
   "outputs": [
    {
     "data": {
      "text/plain": [
       "tensor(-2.3566, device='cuda:0', grad_fn=<SubBackward0>)"
      ]
     },
     "execution_count": 12,
     "metadata": {},
     "output_type": "execute_result"
    }
   ],
   "source": [
    "flow_X.log_prob(X).mean() + flow_Y.log_prob(Y).mean() - flow_XY.log_prob(D).mean()"
   ]
  },
  {
   "cell_type": "code",
   "execution_count": 17,
   "id": "dfdacd41-8bd1-48ba-bfc5-f6660de101c6",
   "metadata": {},
   "outputs": [
    {
     "data": {
      "text/plain": [
       "array([0. , 0.1, 0.2, 0.3, 0.4, 0.5, 0.6, 0.7, 0.8, 0.9, 1. ])"
      ]
     },
     "execution_count": 17,
     "metadata": {},
     "output_type": "execute_result"
    }
   ],
   "source": [
    "np.round(np.linspace(0, 1, 11), 1)"
   ]
  },
  {
   "cell_type": "code",
   "execution_count": 18,
   "id": "122dc3db-1b1b-49b5-a9e2-62a625ec92d8",
   "metadata": {},
   "outputs": [],
   "source": [
    "def make_checkpoint(flow, optimizer, loss, filename):\n",
    "    torch.save({'model_state_dict': flow.state_dict(),\n",
    "                'optimizer_state_dict': optimizer.state_dict(),\n",
    "                'loss': loss,\n",
    "               }, \n",
    "               filename)\n",
    "\n",
    "def make_flow(d, num_layers = 5):\n",
    "    base_dist = StandardNormal(shape=[d])\n",
    "    \n",
    "    transforms = []\n",
    "    for _ in range(num_layers):\n",
    "        transforms.append(ReversePermutation(features=d))\n",
    "        transforms.append(MaskedAffineAutoregressiveTransform(features=d, \n",
    "                                                              hidden_features=8))\n",
    "    transform = CompositeTransform(transforms)\n",
    "    \n",
    "    return Flow(transform, base_dist)\n",
    "\n",
    "def train_flow(flow, optimizer, data, dir, num_iter = 10000):\n",
    "    losses = np.zeros(num_iter)\n",
    "    print(-flow.log_prob(inputs=data).mean())\n",
    "    for i in tqdm.trange(num_iter):\n",
    "        optimizer.zero_grad()\n",
    "        loss = -flow.log_prob(inputs=data).mean()\n",
    "        losses[i] = loss\n",
    "        \n",
    "        loss.backward()\n",
    "        optimizer.step()\n",
    "        if i % 100 == 0:\n",
    "            np.save(trn_dir + 'losses.npy', losses)\n",
    "            make_checkpoint(flow, optimizer, loss, dir + 'ckpt_{}'.format(i))\n",
    "            \n",
    "    make_checkpoint(flow, optimizer, loss, dir + 'ckpt_{}'.format(num_iter))\n",
    "    np.save(dir + 'losses.npy', losses)"
   ]
  },
  {
   "cell_type": "code",
   "execution_count": 19,
   "id": "b63ee1d6-74d0-4380-9d26-fdb31eda7e93",
   "metadata": {},
   "outputs": [],
   "source": [
    "np.random.seed(666)\n",
    "U = stats.uniform.rvs(scale = 2*np.pi, size = n)\n",
    "R = np.array([[np.cos(α), -np.sin(α)], [np.sin(α), np.cos(α)]])"
   ]
  },
  {
   "cell_type": "code",
   "execution_count": 21,
   "id": "d3f730e8-f00c-4d82-a7ff-5ec746a838cf",
   "metadata": {},
   "outputs": [
    {
     "data": {
      "text/plain": [
       "tensor([[-0.5532],\n",
       "        [ 0.1010],\n",
       "        [-0.6315],\n",
       "        ...,\n",
       "        [-0.3825],\n",
       "        [ 0.7318],\n",
       "        [ 0.5262]], device='cuda:0')"
      ]
     },
     "execution_count": 21,
     "metadata": {},
     "output_type": "execute_result"
    }
   ],
   "source": [
    "b = 0.5\n",
    "a = np.sqrt(2 - a**2)\n",
    "V = np.vstack([a * np.cos(U), b * np.sin(U)])\n",
    "D = (R @ V).T\n",
    "\n",
    "D = torch.tensor(D, dtype = torch.float32).cuda()\n",
    "X = D[:, 0].reshape(n, 1)\n",
    "Y = D[:, 1].reshape(n, 1)\n",
    "D.to(device)\n",
    "X.to(device)\n",
    "Y.to(device)"
   ]
  },
  {
   "cell_type": "code",
   "execution_count": 23,
   "id": "37590e4f-6c2b-4336-b920-94005ad9f50e",
   "metadata": {},
   "outputs": [],
   "source": [
    "import os"
   ]
  },
  {
   "cell_type": "code",
   "execution_count": 26,
   "id": "8427ae99-6b41-41ef-bfcd-c28ccbaf2515",
   "metadata": {},
   "outputs": [
    {
     "name": "stdout",
     "output_type": "stream",
     "text": [
      "tensor(5.6437, device='cuda:0', grad_fn=<NegBackward0>)\n"
     ]
    },
    {
     "name": "stderr",
     "output_type": "stream",
     "text": [
      "100%|██████████| 10000/10000 [02:15<00:00, 74.02it/s]\n"
     ]
    }
   ],
   "source": [
    "flow_XY = make_flow(d = 2)\n",
    "flow_XY.to(device)\n",
    "optimizer_XY = optim.Adam(flow_XY.parameters())\n",
    "\n",
    "os.makedirs('b/{}/XY'.format(b), exist_ok = True)\n",
    "train_flow(flow_XY, optimizer_XY, D, 'b/{}/XY/'.format(b))"
   ]
  },
  {
   "cell_type": "code",
   "execution_count": null,
   "id": "4fad4cab-3dfa-45b9-9f88-76848029c8b2",
   "metadata": {},
   "outputs": [],
   "source": [
    "flow_X = make_flow(d = 1)\n",
    "flow_X.to(device)\n",
    "optimizer_X = optim.Adam(flow_X.parameters())\n",
    "\n",
    "os.makedirs('X', exist_ok = True)\n",
    "train_flow(flow_X, optimizer_X, X, 'X/')"
   ]
  },
  {
   "cell_type": "code",
   "execution_count": 27,
   "id": "f0e80279-9268-4959-ab7f-4b7c4727eb1e",
   "metadata": {},
   "outputs": [
    {
     "name": "stdout",
     "output_type": "stream",
     "text": [
      "tensor(2.8256, device='cuda:0', grad_fn=<NegBackward0>)\n"
     ]
    },
    {
     "name": "stderr",
     "output_type": "stream",
     "text": [
      "100%|██████████| 10000/10000 [02:16<00:00, 73.17it/s]\n"
     ]
    }
   ],
   "source": [
    "flow_Y = make_flow(d = 1)\n",
    "flow_Y.to(device)\n",
    "optimizer_Y = optim.Adam(flow_Y.parameters())\n",
    "\n",
    "os.makedirs('Y', exist_ok = True)\n",
    "train_flow(flow_Y, optimizer_Y, Y, 'Y/')"
   ]
  },
  {
   "cell_type": "code",
   "execution_count": 28,
   "id": "308dba79-5bce-49f9-af8f-c9a58d1b3b96",
   "metadata": {},
   "outputs": [],
   "source": [
    "S = flow_Y.sample(n)"
   ]
  },
  {
   "cell_type": "code",
   "execution_count": 30,
   "id": "a15e228d-1cc9-4066-a161-83774d9a0144",
   "metadata": {},
   "outputs": [
    {
     "data": {
      "text/plain": [
       "(array([7.0000e+00, 2.7500e+02, 2.4360e+03, 1.2238e+04, 2.8348e+04,\n",
       "        3.2660e+04, 1.8285e+04, 5.0300e+03, 6.8000e+02, 4.1000e+01]),\n",
       " array([-2.53856611, -2.04922152, -1.55987692, -1.07053232, -0.58118773,\n",
       "        -0.09184313,  0.39750147,  0.88684607,  1.37619066,  1.86553526,\n",
       "         2.35487986]),\n",
       " <BarContainer object of 10 artists>)"
      ]
     },
     "execution_count": 30,
     "metadata": {},
     "output_type": "execute_result"
    },
    {
     "data": {
      "image/png": "[encoded data removed]",
      "text/plain": [
       "<Figure size 640x480 with 1 Axes>"
      ]
     },
     "metadata": {},
     "output_type": "display_data"
    }
   ],
   "source": [
    "plt.hist(S.cpu().detach().numpy())"
   ]
  },
  {
   "cell_type": "code",
   "execution_count": 32,
   "id": "9e1fab67-4a26-43df-a7de-d27ae09c2c7b",
   "metadata": {},
   "outputs": [
    {
     "data": {
      "text/plain": [
       "(array([20339.,  9123.,  7422.,  6643.,  6471.,  6526.,  6637.,  7220.,\n",
       "         8876., 20743.]),\n",
       " array([-0.79056942, -0.63245553, -0.47434166, -0.31622776, -0.15811388,\n",
       "         0.        ,  0.15811388,  0.31622776,  0.47434166,  0.63245553,\n",
       "         0.79056942]),\n",
       " <BarContainer object of 10 artists>)"
      ]
     },
     "execution_count": 32,
     "metadata": {},
     "output_type": "execute_result"
    },
    {
     "data": {
      "image/png": "[encoded data removed]",
      "text/plain": [
       "<Figure size 640x480 with 1 Axes>"
      ]
     },
     "metadata": {},
     "output_type": "display_data"
    }
   ],
   "source": [
    "plt.hist(Y.cpu().detach().numpy())"
   ]
  },
  {
   "cell_type": "code",
   "execution_count": null,
   "id": "6dc322c6-c9da-440a-963e-647d61873f44",
   "metadata": {},
   "outputs": [],
   "source": []
  }
 ],
 "metadata": {
  "kernelspec": {
   "display_name": "test",
   "language": "python",
   "name": "test"
  },
  "language_info": {
   "codemirror_mode": {
    "name": "ipython",
    "version": 3
   },
   "file_extension": ".py",
   "mimetype": "text/x-python",
   "name": "python",
   "nbconvert_exporter": "python",
   "pygments_lexer": "ipython3",
   "version": "3.11.5"
  }
 },
 "nbformat": 4,
 "nbformat_minor": 5
}
