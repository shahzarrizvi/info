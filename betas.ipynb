{
 "cells": [
  {
   "cell_type": "code",
   "execution_count": 1,
   "id": "286dd04a-08cd-4dfe-bc21-b1ffc9769f02",
   "metadata": {},
   "outputs": [
    {
     "name": "stdout",
     "output_type": "stream",
     "text": [
      "cuda:0\n"
     ]
    }
   ],
   "source": [
    "import torch\n",
    "from torch import nn\n",
    "from torch import optim\n",
    "\n",
    "device = torch.device(\"cuda:0\" if torch.cuda.is_available() else \"cpu\")\n",
    "print(device)"
   ]
  },
  {
   "cell_type": "code",
   "execution_count": 2,
   "id": "4666b53a-a9b4-40f3-90d1-021c327731a4",
   "metadata": {},
   "outputs": [],
   "source": [
    "from nflows.flows.base import Flow\n",
    "from nflows.distributions.normal import StandardNormal\n",
    "from nflows.transforms.base import CompositeTransform\n",
    "from nflows.transforms.autoregressive import MaskedAffineAutoregressiveTransform\n",
    "from nflows.transforms.permutations import ReversePermutation\n",
    "\n",
    "import tqdm as tqdm\n",
    "import numpy as np\n",
    "from scipy import stats\n",
    "import matplotlib.pyplot as plt"
   ]
  },
  {
   "cell_type": "code",
   "execution_count": 9,
   "id": "d04c1d03-b71e-40f1-a7ea-3bbef37ac2e6",
   "metadata": {
    "scrolled": true
   },
   "outputs": [],
   "source": [
    "np.random.seed(666)\n",
    "\n",
    "α = np.pi/4\n",
    "n = 500\n",
    "d = 2\n",
    "a = 1\n",
    "b = np.sqrt(2 - a**2)\n",
    "\n",
    "R = np.array([[np.cos(α), -np.sin(α)], [np.sin(α), np.cos(α)]])\n",
    "U = stats.uniform.rvs(scale = 2*np.pi, size = n)\n",
    "V = np.vstack([a * np.cos(U), b * np.sin(U)])\n",
    "D = (R @ V).T\n",
    "X = D[:, 0].reshape(n, 1)\n",
    "Y = D[:, 1].reshape(n, 1)"
   ]
  },
  {
   "cell_type": "code",
   "execution_count": 10,
   "id": "c35459bc-bdd4-428f-b35d-11d1e4adb6e0",
   "metadata": {},
   "outputs": [
    {
     "data": {
      "text/plain": [
       "tensor([[-0.8898],\n",
       "        [-0.1924],\n",
       "        [-0.9481],\n",
       "        [-0.7983],\n",
       "        [ 0.4621],\n",
       "        [ 0.7612],\n",
       "        [-0.2401],\n",
       "        [ 0.8876],\n",
       "        [ 0.9876],\n",
       "        [-0.7420],\n",
       "        [ 0.8903],\n",
       "        [-0.7326],\n",
       "        [ 0.9104],\n",
       "        [-0.8886],\n",
       "        [ 0.4915],\n",
       "        [-0.5904],\n",
       "        [ 0.7294],\n",
       "        [ 0.9971],\n",
       "        [ 0.9961],\n",
       "        [ 0.7174],\n",
       "        [ 0.8025],\n",
       "        [-0.8004],\n",
       "        [ 0.2179],\n",
       "        [ 0.8980],\n",
       "        [ 0.2131],\n",
       "        [ 0.6047],\n",
       "        [-0.8368],\n",
       "        [ 0.6654],\n",
       "        [-0.9667],\n",
       "        [ 0.3049],\n",
       "        [ 0.0872],\n",
       "        [-1.0000],\n",
       "        [-0.3454],\n",
       "        [-0.8833],\n",
       "        [-0.2591],\n",
       "        [-0.7373],\n",
       "        [ 0.0339],\n",
       "        [ 0.9514],\n",
       "        [-0.5868],\n",
       "        [ 0.8292],\n",
       "        [ 0.9591],\n",
       "        [-0.6460],\n",
       "        [ 0.9838],\n",
       "        [-0.2882],\n",
       "        [ 0.9143],\n",
       "        [ 0.6109],\n",
       "        [-0.9203],\n",
       "        [ 0.1712],\n",
       "        [-0.1453],\n",
       "        [-0.2674],\n",
       "        [-0.1158],\n",
       "        [ 0.7754],\n",
       "        [ 0.4584],\n",
       "        [ 0.1329],\n",
       "        [ 0.1160],\n",
       "        [-0.5298],\n",
       "        [-0.6060],\n",
       "        [-0.2793],\n",
       "        [-0.5826],\n",
       "        [-0.5322],\n",
       "        [ 0.9371],\n",
       "        [ 0.0567],\n",
       "        [-0.8313],\n",
       "        [-0.9569],\n",
       "        [ 0.6774],\n",
       "        [-0.3435],\n",
       "        [ 0.7763],\n",
       "        [ 0.7705],\n",
       "        [-0.7550],\n",
       "        [ 0.4981],\n",
       "        [-0.7155],\n",
       "        [-0.6994],\n",
       "        [ 0.9911],\n",
       "        [-0.4340],\n",
       "        [ 0.5579],\n",
       "        [-0.7564],\n",
       "        [-0.8287],\n",
       "        [ 0.1131],\n",
       "        [ 0.5234],\n",
       "        [ 0.8993],\n",
       "        [-0.8457],\n",
       "        [ 0.9732],\n",
       "        [-0.0549],\n",
       "        [-1.0000],\n",
       "        [ 0.5061],\n",
       "        [-0.8058],\n",
       "        [ 0.8491],\n",
       "        [-0.8020],\n",
       "        [ 0.7243],\n",
       "        [ 0.8918],\n",
       "        [ 0.6706],\n",
       "        [ 0.8534],\n",
       "        [ 0.4392],\n",
       "        [-0.4626],\n",
       "        [ 0.7017],\n",
       "        [-0.9900],\n",
       "        [-0.8845],\n",
       "        [-0.3363],\n",
       "        [ 0.9641],\n",
       "        [ 0.9991],\n",
       "        [ 0.3849],\n",
       "        [ 0.2243],\n",
       "        [-0.1440],\n",
       "        [ 0.3108],\n",
       "        [-0.7268],\n",
       "        [-0.5100],\n",
       "        [-0.9968],\n",
       "        [ 0.6741],\n",
       "        [-0.5934],\n",
       "        [ 0.9897],\n",
       "        [-0.0153],\n",
       "        [-0.6794],\n",
       "        [ 0.4585],\n",
       "        [ 0.9268],\n",
       "        [-0.6816],\n",
       "        [ 0.8636],\n",
       "        [-0.6047],\n",
       "        [ 0.4030],\n",
       "        [ 0.2825],\n",
       "        [ 0.2666],\n",
       "        [-0.5542],\n",
       "        [ 0.7733],\n",
       "        [ 0.9757],\n",
       "        [-0.9421],\n",
       "        [-0.9812],\n",
       "        [ 0.7244],\n",
       "        [ 0.9333],\n",
       "        [ 0.7121],\n",
       "        [-0.9669],\n",
       "        [-0.0669],\n",
       "        [ 0.9812],\n",
       "        [-0.5013],\n",
       "        [-0.9926],\n",
       "        [-0.9823],\n",
       "        [-0.5058],\n",
       "        [-0.4542],\n",
       "        [-0.9415],\n",
       "        [-0.3899],\n",
       "        [ 0.6501],\n",
       "        [ 0.7644],\n",
       "        [-0.2243],\n",
       "        [ 0.0393],\n",
       "        [-0.9993],\n",
       "        [-0.5441],\n",
       "        [-0.6730],\n",
       "        [-0.8319],\n",
       "        [-0.9833],\n",
       "        [ 0.5438],\n",
       "        [-0.0914],\n",
       "        [ 0.5630],\n",
       "        [ 0.0905],\n",
       "        [-0.9223],\n",
       "        [ 0.8318],\n",
       "        [ 0.4269],\n",
       "        [ 0.9465],\n",
       "        [-0.5476],\n",
       "        [-0.2392],\n",
       "        [-0.2927],\n",
       "        [-0.4822],\n",
       "        [ 0.9088],\n",
       "        [ 0.1389],\n",
       "        [ 0.3464],\n",
       "        [ 0.0691],\n",
       "        [-0.8748],\n",
       "        [ 0.7862],\n",
       "        [-0.8860],\n",
       "        [ 0.3413],\n",
       "        [-0.7893],\n",
       "        [ 0.4119],\n",
       "        [-0.5907],\n",
       "        [-0.0704],\n",
       "        [-0.2848],\n",
       "        [-0.3751],\n",
       "        [-0.9991],\n",
       "        [-0.9224],\n",
       "        [ 0.9824],\n",
       "        [ 0.0086],\n",
       "        [-0.2620],\n",
       "        [-0.2831],\n",
       "        [-0.5836],\n",
       "        [-0.6659],\n",
       "        [-0.8128],\n",
       "        [-0.8483],\n",
       "        [ 0.9999],\n",
       "        [-0.4696],\n",
       "        [ 0.9947],\n",
       "        [ 0.2177],\n",
       "        [ 0.7763],\n",
       "        [-0.7394],\n",
       "        [-0.3234],\n",
       "        [-0.8492],\n",
       "        [-0.0372],\n",
       "        [-0.1976],\n",
       "        [ 0.8651],\n",
       "        [ 0.9559],\n",
       "        [ 0.0439],\n",
       "        [-0.7319],\n",
       "        [-0.0844],\n",
       "        [ 0.9910],\n",
       "        [-0.0146],\n",
       "        [ 0.0222],\n",
       "        [ 0.3543],\n",
       "        [ 0.0233],\n",
       "        [-0.9979],\n",
       "        [ 0.9473],\n",
       "        [-0.1731],\n",
       "        [-0.1525],\n",
       "        [ 0.2347],\n",
       "        [-0.9925],\n",
       "        [-0.2607],\n",
       "        [-0.8425],\n",
       "        [-0.9744],\n",
       "        [-0.9770],\n",
       "        [-0.2063],\n",
       "        [ 0.7914],\n",
       "        [-0.9199],\n",
       "        [ 0.6094],\n",
       "        [-0.0863],\n",
       "        [-0.1272],\n",
       "        [-0.8967],\n",
       "        [-0.3009],\n",
       "        [ 0.9338],\n",
       "        [-0.2801],\n",
       "        [-0.9428],\n",
       "        [ 0.3214],\n",
       "        [-0.0057],\n",
       "        [-0.2676],\n",
       "        [ 0.9628],\n",
       "        [-0.9894],\n",
       "        [-0.0589],\n",
       "        [-0.8439],\n",
       "        [ 0.9753],\n",
       "        [ 0.4902],\n",
       "        [ 0.7489],\n",
       "        [-0.3193],\n",
       "        [-0.7882],\n",
       "        [ 0.9990],\n",
       "        [-0.8222],\n",
       "        [-0.9597],\n",
       "        [ 0.7763],\n",
       "        [-0.9759],\n",
       "        [ 0.9986],\n",
       "        [-0.0504],\n",
       "        [-1.0000],\n",
       "        [ 0.4845],\n",
       "        [ 0.9893],\n",
       "        [ 0.7680],\n",
       "        [-0.9277],\n",
       "        [ 0.2848],\n",
       "        [-0.8157],\n",
       "        [ 0.4739],\n",
       "        [ 0.6800],\n",
       "        [-0.9931],\n",
       "        [ 0.0908],\n",
       "        [-0.2849],\n",
       "        [-0.2738],\n",
       "        [ 0.3157],\n",
       "        [-0.3383],\n",
       "        [-0.6885],\n",
       "        [ 0.3879],\n",
       "        [ 0.6564],\n",
       "        [-0.5354],\n",
       "        [ 0.2411],\n",
       "        [ 0.9868],\n",
       "        [-0.9911],\n",
       "        [-0.2846],\n",
       "        [-0.9364],\n",
       "        [-0.1784],\n",
       "        [ 0.9578],\n",
       "        [-0.9938],\n",
       "        [ 0.9131],\n",
       "        [ 0.9531],\n",
       "        [-0.4492],\n",
       "        [ 0.5890],\n",
       "        [ 0.2647],\n",
       "        [ 0.3392],\n",
       "        [ 0.1207],\n",
       "        [ 0.6445],\n",
       "        [-0.7037],\n",
       "        [-0.5151],\n",
       "        [ 0.5508],\n",
       "        [-0.9997],\n",
       "        [ 0.7785],\n",
       "        [ 0.0473],\n",
       "        [ 0.9908],\n",
       "        [-0.1580],\n",
       "        [-0.9985],\n",
       "        [-0.9734],\n",
       "        [ 0.9023],\n",
       "        [-0.6914],\n",
       "        [-0.8884],\n",
       "        [-0.9189],\n",
       "        [-0.6272],\n",
       "        [ 0.8582],\n",
       "        [ 0.5810],\n",
       "        [-0.7406],\n",
       "        [-0.6659],\n",
       "        [-0.1614],\n",
       "        [ 0.3591],\n",
       "        [-0.4641],\n",
       "        [ 0.8641],\n",
       "        [ 0.7429],\n",
       "        [-0.9884],\n",
       "        [-0.5471],\n",
       "        [ 0.9929],\n",
       "        [-0.3953],\n",
       "        [ 0.9782],\n",
       "        [ 0.8531],\n",
       "        [-0.9892],\n",
       "        [-0.9894],\n",
       "        [-0.5538],\n",
       "        [ 0.9996],\n",
       "        [ 0.7246],\n",
       "        [-0.5804],\n",
       "        [ 0.4398],\n",
       "        [ 0.9219],\n",
       "        [ 0.4655],\n",
       "        [ 0.5853],\n",
       "        [-0.9858],\n",
       "        [-0.9780],\n",
       "        [ 0.7331],\n",
       "        [ 0.2681],\n",
       "        [-0.3754],\n",
       "        [-0.3595],\n",
       "        [ 0.3023],\n",
       "        [ 0.8893],\n",
       "        [-0.0963],\n",
       "        [-0.4979],\n",
       "        [-0.7861],\n",
       "        [ 0.8291],\n",
       "        [-0.9899],\n",
       "        [-0.3923],\n",
       "        [-0.0059],\n",
       "        [ 0.9781],\n",
       "        [-0.7320],\n",
       "        [-0.9799],\n",
       "        [ 0.9946],\n",
       "        [ 0.7918],\n",
       "        [-0.2783],\n",
       "        [ 0.3857],\n",
       "        [-0.9329],\n",
       "        [ 0.8628],\n",
       "        [ 0.9612],\n",
       "        [-0.7901],\n",
       "        [-0.6249],\n",
       "        [ 0.6803],\n",
       "        [-0.6186],\n",
       "        [ 0.9886],\n",
       "        [ 0.4769],\n",
       "        [ 0.8239],\n",
       "        [-0.8184],\n",
       "        [-0.7331],\n",
       "        [-0.9412],\n",
       "        [ 0.8500],\n",
       "        [ 0.9815],\n",
       "        [ 0.9964],\n",
       "        [ 0.8790],\n",
       "        [ 0.3196],\n",
       "        [ 0.9784],\n",
       "        [ 0.7713],\n",
       "        [ 0.8332],\n",
       "        [-0.6997],\n",
       "        [-0.0541],\n",
       "        [-0.0771],\n",
       "        [ 0.9394],\n",
       "        [ 0.9107],\n",
       "        [ 0.8484],\n",
       "        [-0.9427],\n",
       "        [-0.2325],\n",
       "        [ 0.1309],\n",
       "        [-0.3997],\n",
       "        [ 0.7604],\n",
       "        [ 0.4780],\n",
       "        [ 0.9776],\n",
       "        [-0.9262],\n",
       "        [-0.1299],\n",
       "        [-0.8689],\n",
       "        [-0.9251],\n",
       "        [ 0.2393],\n",
       "        [ 0.2249],\n",
       "        [-0.9829],\n",
       "        [ 0.8881],\n",
       "        [ 0.8733],\n",
       "        [-0.2235],\n",
       "        [-0.3161],\n",
       "        [ 0.1381],\n",
       "        [-0.9031],\n",
       "        [-0.9215],\n",
       "        [ 0.0014],\n",
       "        [ 0.8534],\n",
       "        [ 0.6589],\n",
       "        [ 0.4707],\n",
       "        [ 0.0381],\n",
       "        [ 0.7899],\n",
       "        [-0.5080],\n",
       "        [ 0.0877],\n",
       "        [ 0.9986],\n",
       "        [-0.6693],\n",
       "        [ 0.4758],\n",
       "        [-0.6738],\n",
       "        [-0.4205],\n",
       "        [-0.7540],\n",
       "        [ 0.9904],\n",
       "        [ 0.6441],\n",
       "        [ 0.7688],\n",
       "        [ 0.7040],\n",
       "        [ 0.2902],\n",
       "        [ 0.5810],\n",
       "        [-0.0104],\n",
       "        [-0.9252],\n",
       "        [ 0.9997],\n",
       "        [ 0.8079],\n",
       "        [ 0.1608],\n",
       "        [-0.9616],\n",
       "        [-0.0527],\n",
       "        [ 0.6609],\n",
       "        [ 0.7565],\n",
       "        [-0.1744],\n",
       "        [ 0.9998],\n",
       "        [-0.7722],\n",
       "        [ 0.8640],\n",
       "        [ 0.9181],\n",
       "        [-0.1949],\n",
       "        [-0.6323],\n",
       "        [-0.4458],\n",
       "        [-0.3912],\n",
       "        [ 0.9989],\n",
       "        [ 0.1430],\n",
       "        [ 0.9793],\n",
       "        [ 0.9272],\n",
       "        [-0.6814],\n",
       "        [ 0.2554],\n",
       "        [ 0.8896],\n",
       "        [-0.3420],\n",
       "        [-0.0219],\n",
       "        [ 0.2191],\n",
       "        [-0.1956],\n",
       "        [-0.9810],\n",
       "        [ 0.1195],\n",
       "        [ 0.1837],\n",
       "        [-0.6833],\n",
       "        [ 0.4098],\n",
       "        [ 0.9704],\n",
       "        [-0.0044],\n",
       "        [-0.8185],\n",
       "        [-0.4131],\n",
       "        [-0.2600],\n",
       "        [-0.9191],\n",
       "        [-0.9676],\n",
       "        [-0.5164],\n",
       "        [-0.0417],\n",
       "        [ 0.9586],\n",
       "        [-0.9019],\n",
       "        [ 0.4747],\n",
       "        [ 0.3737],\n",
       "        [-0.4355],\n",
       "        [ 0.4993],\n",
       "        [-0.8453],\n",
       "        [-0.8102],\n",
       "        [-0.9201],\n",
       "        [-0.9162],\n",
       "        [ 0.3106],\n",
       "        [ 0.9750],\n",
       "        [ 0.9726],\n",
       "        [-0.1678],\n",
       "        [ 0.5312],\n",
       "        [-0.9586],\n",
       "        [-0.4547],\n",
       "        [ 0.4154],\n",
       "        [-0.3133],\n",
       "        [ 0.4929],\n",
       "        [-0.7992],\n",
       "        [ 0.3859],\n",
       "        [ 0.9374],\n",
       "        [ 0.8642],\n",
       "        [ 0.9331],\n",
       "        [ 0.8651],\n",
       "        [-0.7912],\n",
       "        [-0.9951],\n",
       "        [ 0.8928],\n",
       "        [-0.7530],\n",
       "        [ 0.6835],\n",
       "        [-0.8896],\n",
       "        [ 0.7927],\n",
       "        [ 0.9445],\n",
       "        [-0.9678],\n",
       "        [ 0.4256],\n",
       "        [ 0.4522],\n",
       "        [-0.6414],\n",
       "        [ 0.9617],\n",
       "        [-0.4935],\n",
       "        [ 0.4323],\n",
       "        [-0.2243],\n",
       "        [ 0.2795],\n",
       "        [-0.7644],\n",
       "        [-0.9424],\n",
       "        [ 0.5373],\n",
       "        [-0.9565],\n",
       "        [-0.8299],\n",
       "        [-0.4412]], device='cuda:0')"
      ]
     },
     "execution_count": 10,
     "metadata": {},
     "output_type": "execute_result"
    }
   ],
   "source": [
    "D = torch.tensor(D, dtype = torch.float32).cuda()\n",
    "X = torch.tensor(X, dtype = torch.float32).cuda()\n",
    "Y = torch.tensor(Y, dtype = torch.float32).cuda()\n",
    "D.to(device)\n",
    "X.to(device)\n",
    "Y.to(device)"
   ]
  },
  {
   "cell_type": "code",
   "execution_count": 11,
   "id": "024e384b-f7db-4d8e-a283-69f87705adbb",
   "metadata": {},
   "outputs": [],
   "source": [
    "X_idx = np.random.choice(n, size = n, replace = False)\n",
    "#Y_idx = np.random.choice(n, size = n, replace = False)\n",
    "X_star = D[X_idx, 0].reshape(-1, 1)\n",
    "Y_star = Y\n",
    "D_star = torch.cat([X_star, Y_star], dim = 1)"
   ]
  },
  {
   "cell_type": "code",
   "execution_count": 12,
   "id": "2b38ea24-db06-43da-a382-693d986df722",
   "metadata": {},
   "outputs": [
    {
     "data": {
      "text/plain": [
       "<matplotlib.collections.PathCollection at 0x7ff9959da2d0>"
      ]
     },
     "execution_count": 12,
     "metadata": {},
     "output_type": "execute_result"
    },
    {
     "data": {
      "image/png": "[encoded data removed]",
      "text/plain": [
       "<Figure size 640x480 with 1 Axes>"
      ]
     },
     "metadata": {},
     "output_type": "display_data"
    }
   ],
   "source": [
    "plt.scatter(X.cpu().detach().numpy(), Y.cpu().detach().numpy())"
   ]
  },
  {
   "cell_type": "code",
   "execution_count": 13,
   "id": "5862c3f9-3ddc-4a9d-9db1-f3c92a64372e",
   "metadata": {},
   "outputs": [
    {
     "data": {
      "text/plain": [
       "<matplotlib.collections.PathCollection at 0x7ff9959243d0>"
      ]
     },
     "execution_count": 13,
     "metadata": {},
     "output_type": "execute_result"
    },
    {
     "data": {
      "image/png": "[encoded data removed]",
      "text/plain": [
       "<Figure size 640x480 with 1 Axes>"
      ]
     },
     "metadata": {},
     "output_type": "display_data"
    }
   ],
   "source": [
    "plt.scatter(X_star.cpu().detach().numpy(), Y_star.cpu().detach().numpy())"
   ]
  },
  {
   "cell_type": "code",
   "execution_count": 5,
   "id": "b112c06e-dd66-4c72-8d38-b43d6829f933",
   "metadata": {},
   "outputs": [],
   "source": [
    "def make_checkpoint(flow, optimizer, loss, filename):\n",
    "    torch.save({'model_state_dict': flow.state_dict(),\n",
    "                'optimizer_state_dict': optimizer.state_dict(),\n",
    "                'loss': loss,\n",
    "               }, \n",
    "               filename)"
   ]
  },
  {
   "cell_type": "code",
   "execution_count": 6,
   "id": "b9bf56dc-0035-44ee-8a90-c8d60b98a633",
   "metadata": {},
   "outputs": [],
   "source": [
    "d = 2\n",
    "num_layers = 5\n",
    "base_dist = StandardNormal(shape=[d])\n",
    "\n",
    "transforms = []\n",
    "for _ in range(num_layers):\n",
    "    transforms.append(ReversePermutation(features=d))\n",
    "    transforms.append(MaskedAffineAutoregressiveTransform(features=d, \n",
    "                                                          hidden_features=8))\n",
    "transform = CompositeTransform(transforms)\n",
    "\n",
    "flow_XY = Flow(transform, base_dist)\n",
    "flow_XY.to(device)\n",
    "optimizer = optim.Adam(flow_XY.parameters())"
   ]
  },
  {
   "cell_type": "code",
   "execution_count": 7,
   "id": "352e68e1-ff53-445f-a8c4-bcb3368452a5",
   "metadata": {},
   "outputs": [
    {
     "name": "stdout",
     "output_type": "stream",
     "text": [
      "tensor(5.5933, device='cuda:0', grad_fn=<NegBackward0>)\n"
     ]
    },
    {
     "name": "stderr",
     "output_type": "stream",
     "text": [
      "100%|██████████| 10000/10000 [01:53<00:00, 88.25it/s]\n"
     ]
    }
   ],
   "source": [
    "# Train flow.\n",
    "trn_dir = 'betas/'\n",
    "num_iter = 10000 # Use dataset 10,000 times.\n",
    "losses = np.zeros(num_iter)\n",
    "\n",
    "best = np.inf * np.ones(10)\n",
    "print(-flow_XY.log_prob(inputs=D).mean())\n",
    "for i in tqdm.trange(num_iter):\n",
    "    optimizer.zero_grad()\n",
    "    loss = -flow_XY.log_prob(inputs=D).mean()\n",
    "    losses[i] = loss\n",
    "    \n",
    "    loss.backward()\n",
    "    optimizer.step()\n",
    "    if i % 100 == 0:\n",
    "        np.save(trn_dir + 'losses.npy', losses)\n",
    "        make_checkpoint(flow_XY, optimizer, loss, trn_dir + 'ckpt_{}'.format(i))\n",
    "        \n",
    "    if losses[i] < max(best):\n",
    "        idx = np.argmax(best)\n",
    "        make_checkpoint(flow_XY, optimizer, loss, trn_dir + 'best/ckpt_{}'.format(idx))\n",
    "        best[idx] = losses[i]\n",
    "        np.save(trn_dir + 'best.npy', best)\n",
    "        \n",
    "make_checkpoint(flow_XY, optimizer, loss, trn_dir + 'ckpt_{}'.format(num_iter))\n",
    "np.save(trn_dir + 'losses.npy', losses)"
   ]
  },
  {
   "cell_type": "code",
   "execution_count": 8,
   "id": "2130e17f-4910-4d0a-8e64-2eadb809f7c2",
   "metadata": {},
   "outputs": [],
   "source": [
    "d = 1\n",
    "num_layers = 5\n",
    "base_dist = StandardNormal(shape=[d])\n",
    "\n",
    "transforms = []\n",
    "for _ in range(num_layers):\n",
    "    transforms.append(ReversePermutation(features=d))\n",
    "    transforms.append(MaskedAffineAutoregressiveTransform(features=d, \n",
    "                                                          hidden_features=8))\n",
    "transform = CompositeTransform(transforms)\n",
    "\n",
    "flow_X = Flow(transform, base_dist)\n",
    "flow_X.to(device)\n",
    "optimizer = optim.Adam(flow_X.parameters())"
   ]
  },
  {
   "cell_type": "code",
   "execution_count": 9,
   "id": "1f5a8344-dd68-411c-b464-b6c2b8e9bdd6",
   "metadata": {},
   "outputs": [
    {
     "name": "stdout",
     "output_type": "stream",
     "text": [
      "tensor(3.6001, device='cuda:0', grad_fn=<NegBackward0>)\n"
     ]
    },
    {
     "name": "stderr",
     "output_type": "stream",
     "text": [
      "100%|██████████| 10000/10000 [01:36<00:00, 103.74it/s]\n"
     ]
    }
   ],
   "source": [
    "# Train flow.\n",
    "trn_dir = 'betas/'\n",
    "num_iter = 10000 # Use dataset 10,000 times.\n",
    "losses = np.zeros(num_iter)\n",
    "\n",
    "best = np.inf * np.ones(10)\n",
    "print(-flow_X.log_prob(inputs=X).mean())\n",
    "for i in tqdm.trange(num_iter):\n",
    "    optimizer.zero_grad()\n",
    "    loss = -flow_X.log_prob(inputs=X).mean()\n",
    "    losses[i] = loss\n",
    "    \n",
    "    loss.backward()\n",
    "    optimizer.step()\n",
    "    if i % 100 == 0:\n",
    "        np.save(trn_dir + 'losses.npy', losses)\n",
    "        make_checkpoint(flow_X, optimizer, loss, trn_dir + 'ckpt_{}'.format(i))\n",
    "        \n",
    "    if losses[i] < max(best):\n",
    "        idx = np.argmax(best)\n",
    "        make_checkpoint(flow_X, optimizer, loss, trn_dir + 'best/ckpt_{}'.format(idx))\n",
    "        best[idx] = losses[i]\n",
    "        np.save(trn_dir + 'best.npy', best)\n",
    "        \n",
    "make_checkpoint(flow_X, optimizer, loss, trn_dir + 'ckpt_{}'.format(num_iter))\n",
    "np.save(trn_dir + 'losses.npy', losses)"
   ]
  },
  {
   "cell_type": "code",
   "execution_count": 10,
   "id": "da64a071-1e73-4d2e-a37d-4cac62e92cc7",
   "metadata": {},
   "outputs": [],
   "source": [
    "d = 1\n",
    "num_layers = 5\n",
    "base_dist = StandardNormal(shape=[d])\n",
    "\n",
    "transforms = []\n",
    "for _ in range(num_layers):\n",
    "    transforms.append(ReversePermutation(features=d))\n",
    "    transforms.append(MaskedAffineAutoregressiveTransform(features=d, \n",
    "                                                          hidden_features=8))\n",
    "transform = CompositeTransform(transforms)\n",
    "\n",
    "flow_Y = Flow(transform, base_dist)\n",
    "flow_Y.to(device)\n",
    "optimizer = optim.Adam(flow_Y.parameters())"
   ]
  },
  {
   "cell_type": "code",
   "execution_count": 11,
   "id": "fe17c144-5695-4498-9551-e067e0620b53",
   "metadata": {},
   "outputs": [
    {
     "name": "stdout",
     "output_type": "stream",
     "text": [
      "tensor(2.6505, device='cuda:0', grad_fn=<NegBackward0>)\n"
     ]
    },
    {
     "name": "stderr",
     "output_type": "stream",
     "text": [
      "100%|██████████| 10000/10000 [01:33<00:00, 106.47it/s]\n"
     ]
    }
   ],
   "source": [
    "# Train flow.\n",
    "trn_dir = 'betas/'\n",
    "num_iter = 10000 # Use dataset 10,000 times.\n",
    "losses = np.zeros(num_iter)\n",
    "\n",
    "best = np.inf * np.ones(10)\n",
    "print(-flow_Y.log_prob(inputs=Y).mean())\n",
    "for i in tqdm.trange(num_iter):\n",
    "    optimizer.zero_grad()\n",
    "    loss = -flow_Y.log_prob(inputs=Y).mean()\n",
    "    losses[i] = loss\n",
    "    \n",
    "    loss.backward()\n",
    "    optimizer.step()\n",
    "    if i % 100 == 0:\n",
    "        np.save(trn_dir + 'losses.npy', losses)\n",
    "        make_checkpoint(flow_Y, optimizer, loss, trn_dir + 'ckpt_{}'.format(i))\n",
    "        \n",
    "    if losses[i] < max(best):\n",
    "        idx = np.argmax(best)\n",
    "        make_checkpoint(flow_Y, optimizer, loss, trn_dir + 'best/ckpt_{}'.format(idx))\n",
    "        best[idx] = losses[i]\n",
    "        np.save(trn_dir + 'best.npy', best)\n",
    "        \n",
    "make_checkpoint(flow_Y, optimizer, loss, trn_dir + 'ckpt_{}'.format(num_iter))\n",
    "np.save(trn_dir + 'losses.npy', losses)"
   ]
  },
  {
   "cell_type": "code",
   "execution_count": 15,
   "id": "5763cec7-e955-4f4b-970b-c7343ce021fe",
   "metadata": {},
   "outputs": [
    {
     "data": {
      "text/plain": [
       "Flow(\n",
       "  (_transform): CompositeTransform(\n",
       "    (_transforms): ModuleList(\n",
       "      (0): ReversePermutation()\n",
       "      (1): MaskedAffineAutoregressiveTransform(\n",
       "        (autoregressive_net): MADE(\n",
       "          (initial_layer): MaskedLinear(in_features=1, out_features=8, bias=True)\n",
       "          (blocks): ModuleList(\n",
       "            (0-1): 2 x MaskedResidualBlock(\n",
       "              (linear_layers): ModuleList(\n",
       "                (0-1): 2 x MaskedLinear(in_features=8, out_features=8, bias=True)\n",
       "              )\n",
       "              (dropout): Dropout(p=0.0, inplace=False)\n",
       "            )\n",
       "          )\n",
       "          (final_layer): MaskedLinear(in_features=8, out_features=2, bias=True)\n",
       "        )\n",
       "      )\n",
       "      (2): ReversePermutation()\n",
       "      (3): MaskedAffineAutoregressiveTransform(\n",
       "        (autoregressive_net): MADE(\n",
       "          (initial_layer): MaskedLinear(in_features=1, out_features=8, bias=True)\n",
       "          (blocks): ModuleList(\n",
       "            (0-1): 2 x MaskedResidualBlock(\n",
       "              (linear_layers): ModuleList(\n",
       "                (0-1): 2 x MaskedLinear(in_features=8, out_features=8, bias=True)\n",
       "              )\n",
       "              (dropout): Dropout(p=0.0, inplace=False)\n",
       "            )\n",
       "          )\n",
       "          (final_layer): MaskedLinear(in_features=8, out_features=2, bias=True)\n",
       "        )\n",
       "      )\n",
       "      (4): ReversePermutation()\n",
       "      (5): MaskedAffineAutoregressiveTransform(\n",
       "        (autoregressive_net): MADE(\n",
       "          (initial_layer): MaskedLinear(in_features=1, out_features=8, bias=True)\n",
       "          (blocks): ModuleList(\n",
       "            (0-1): 2 x MaskedResidualBlock(\n",
       "              (linear_layers): ModuleList(\n",
       "                (0-1): 2 x MaskedLinear(in_features=8, out_features=8, bias=True)\n",
       "              )\n",
       "              (dropout): Dropout(p=0.0, inplace=False)\n",
       "            )\n",
       "          )\n",
       "          (final_layer): MaskedLinear(in_features=8, out_features=2, bias=True)\n",
       "        )\n",
       "      )\n",
       "      (6): ReversePermutation()\n",
       "      (7): MaskedAffineAutoregressiveTransform(\n",
       "        (autoregressive_net): MADE(\n",
       "          (initial_layer): MaskedLinear(in_features=1, out_features=8, bias=True)\n",
       "          (blocks): ModuleList(\n",
       "            (0-1): 2 x MaskedResidualBlock(\n",
       "              (linear_layers): ModuleList(\n",
       "                (0-1): 2 x MaskedLinear(in_features=8, out_features=8, bias=True)\n",
       "              )\n",
       "              (dropout): Dropout(p=0.0, inplace=False)\n",
       "            )\n",
       "          )\n",
       "          (final_layer): MaskedLinear(in_features=8, out_features=2, bias=True)\n",
       "        )\n",
       "      )\n",
       "      (8): ReversePermutation()\n",
       "      (9): MaskedAffineAutoregressiveTransform(\n",
       "        (autoregressive_net): MADE(\n",
       "          (initial_layer): MaskedLinear(in_features=1, out_features=8, bias=True)\n",
       "          (blocks): ModuleList(\n",
       "            (0-1): 2 x MaskedResidualBlock(\n",
       "              (linear_layers): ModuleList(\n",
       "                (0-1): 2 x MaskedLinear(in_features=8, out_features=8, bias=True)\n",
       "              )\n",
       "              (dropout): Dropout(p=0.0, inplace=False)\n",
       "            )\n",
       "          )\n",
       "          (final_layer): MaskedLinear(in_features=8, out_features=2, bias=True)\n",
       "        )\n",
       "      )\n",
       "    )\n",
       "  )\n",
       "  (_distribution): StandardNormal()\n",
       "  (_embedding_net): Identity()\n",
       ")"
      ]
     },
     "execution_count": 15,
     "metadata": {},
     "output_type": "execute_result"
    }
   ],
   "source": [
    "flow_X.eval();"
   ]
  },
  {
   "cell_type": "code",
   "execution_count": 12,
   "id": "3dfd20d3-40cb-49b9-91f2-79a602c064dc",
   "metadata": {},
   "outputs": [
    {
     "data": {
      "text/plain": [
       "tensor(-2.3566, device='cuda:0', grad_fn=<SubBackward0>)"
      ]
     },
     "execution_count": 12,
     "metadata": {},
     "output_type": "execute_result"
    }
   ],
   "source": [
    "flow_X.log_prob(X).mean() + flow_Y.log_prob(Y).mean() - flow_XY.log_prob(D).mean()"
   ]
  },
  {
   "cell_type": "code",
   "execution_count": 17,
   "id": "dfdacd41-8bd1-48ba-bfc5-f6660de101c6",
   "metadata": {},
   "outputs": [
    {
     "data": {
      "text/plain": [
       "array([0. , 0.1, 0.2, 0.3, 0.4, 0.5, 0.6, 0.7, 0.8, 0.9, 1. ])"
      ]
     },
     "execution_count": 17,
     "metadata": {},
     "output_type": "execute_result"
    }
   ],
   "source": [
    "np.round(np.linspace(0, 1, 11), 1)"
   ]
  },
  {
   "cell_type": "code",
   "execution_count": 18,
   "id": "122dc3db-1b1b-49b5-a9e2-62a625ec92d8",
   "metadata": {},
   "outputs": [],
   "source": [
    "def make_checkpoint(flow, optimizer, loss, filename):\n",
    "    torch.save({'model_state_dict': flow.state_dict(),\n",
    "                'optimizer_state_dict': optimizer.state_dict(),\n",
    "                'loss': loss,\n",
    "               }, \n",
    "               filename)\n",
    "\n",
    "def make_flow(d, num_layers = 5):\n",
    "    base_dist = StandardNormal(shape=[d])\n",
    "    \n",
    "    transforms = []\n",
    "    for _ in range(num_layers):\n",
    "        transforms.append(ReversePermutation(features=d))\n",
    "        transforms.append(MaskedAffineAutoregressiveTransform(features=d, \n",
    "                                                              hidden_features=8))\n",
    "    transform = CompositeTransform(transforms)\n",
    "    \n",
    "    return Flow(transform, base_dist)\n",
    "\n",
    "def train_flow(flow, optimizer, data, dir, num_iter = 10000):\n",
    "    losses = np.zeros(num_iter)\n",
    "    print(-flow.log_prob(inputs=data).mean())\n",
    "    for i in tqdm.trange(num_iter):\n",
    "        optimizer.zero_grad()\n",
    "        loss = -flow.log_prob(inputs=data).mean()\n",
    "        losses[i] = loss\n",
    "        \n",
    "        loss.backward()\n",
    "        optimizer.step()\n",
    "        if i % 100 == 0:\n",
    "            np.save(trn_dir + 'losses.npy', losses)\n",
    "            make_checkpoint(flow, optimizer, loss, dir + 'ckpt_{}'.format(i))\n",
    "            \n",
    "    make_checkpoint(flow, optimizer, loss, dir + 'ckpt_{}'.format(num_iter))\n",
    "    np.save(dir + 'losses.npy', losses)"
   ]
  },
  {
   "cell_type": "code",
   "execution_count": 19,
   "id": "b63ee1d6-74d0-4380-9d26-fdb31eda7e93",
   "metadata": {},
   "outputs": [],
   "source": [
    "np.random.seed(666)\n",
    "U = stats.uniform.rvs(scale = 2*np.pi, size = n)\n",
    "R = np.array([[np.cos(α), -np.sin(α)], [np.sin(α), np.cos(α)]])"
   ]
  },
  {
   "cell_type": "code",
   "execution_count": 21,
   "id": "d3f730e8-f00c-4d82-a7ff-5ec746a838cf",
   "metadata": {},
   "outputs": [
    {
     "data": {
      "text/plain": [
       "tensor([[-0.5532],\n",
       "        [ 0.1010],\n",
       "        [-0.6315],\n",
       "        ...,\n",
       "        [-0.3825],\n",
       "        [ 0.7318],\n",
       "        [ 0.5262]], device='cuda:0')"
      ]
     },
     "execution_count": 21,
     "metadata": {},
     "output_type": "execute_result"
    }
   ],
   "source": [
    "b = 0.5\n",
    "a = np.sqrt(2 - a**2)\n",
    "V = np.vstack([a * np.cos(U), b * np.sin(U)])\n",
    "D = (R @ V).T\n",
    "\n",
    "D = torch.tensor(D, dtype = torch.float32).cuda()\n",
    "X = D[:, 0].reshape(n, 1)\n",
    "Y = D[:, 1].reshape(n, 1)\n",
    "D.to(device)\n",
    "X.to(device)\n",
    "Y.to(device)"
   ]
  },
  {
   "cell_type": "code",
   "execution_count": 23,
   "id": "37590e4f-6c2b-4336-b920-94005ad9f50e",
   "metadata": {},
   "outputs": [],
   "source": [
    "import os"
   ]
  },
  {
   "cell_type": "code",
   "execution_count": 26,
   "id": "8427ae99-6b41-41ef-bfcd-c28ccbaf2515",
   "metadata": {},
   "outputs": [
    {
     "name": "stdout",
     "output_type": "stream",
     "text": [
      "tensor(5.6437, device='cuda:0', grad_fn=<NegBackward0>)\n"
     ]
    },
    {
     "name": "stderr",
     "output_type": "stream",
     "text": [
      "100%|██████████| 10000/10000 [02:15<00:00, 74.02it/s]\n"
     ]
    }
   ],
   "source": [
    "flow_XY = make_flow(d = 2)\n",
    "flow_XY.to(device)\n",
    "optimizer_XY = optim.Adam(flow_XY.parameters())\n",
    "\n",
    "os.makedirs('b/{}/XY'.format(b), exist_ok = True)\n",
    "train_flow(flow_XY, optimizer_XY, D, 'b/{}/XY/'.format(b))"
   ]
  },
  {
   "cell_type": "code",
   "execution_count": null,
   "id": "4fad4cab-3dfa-45b9-9f88-76848029c8b2",
   "metadata": {},
   "outputs": [],
   "source": [
    "flow_X = make_flow(d = 1)\n",
    "flow_X.to(device)\n",
    "optimizer_X = optim.Adam(flow_X.parameters())\n",
    "\n",
    "os.makedirs('X', exist_ok = True)\n",
    "train_flow(flow_X, optimizer_X, X, 'X/')"
   ]
  },
  {
   "cell_type": "code",
   "execution_count": 27,
   "id": "f0e80279-9268-4959-ab7f-4b7c4727eb1e",
   "metadata": {},
   "outputs": [
    {
     "name": "stdout",
     "output_type": "stream",
     "text": [
      "tensor(2.8256, device='cuda:0', grad_fn=<NegBackward0>)\n"
     ]
    },
    {
     "name": "stderr",
     "output_type": "stream",
     "text": [
      "100%|██████████| 10000/10000 [02:16<00:00, 73.17it/s]\n"
     ]
    }
   ],
   "source": [
    "flow_Y = make_flow(d = 1)\n",
    "flow_Y.to(device)\n",
    "optimizer_Y = optim.Adam(flow_Y.parameters())\n",
    "\n",
    "os.makedirs('Y', exist_ok = True)\n",
    "train_flow(flow_Y, optimizer_Y, Y, 'Y/')"
   ]
  },
  {
   "cell_type": "code",
   "execution_count": 28,
   "id": "308dba79-5bce-49f9-af8f-c9a58d1b3b96",
   "metadata": {},
   "outputs": [],
   "source": [
    "S = flow_Y.sample(n)"
   ]
  },
  {
   "cell_type": "code",
   "execution_count": 30,
   "id": "a15e228d-1cc9-4066-a161-83774d9a0144",
   "metadata": {},
   "outputs": [
    {
     "data": {
      "text/plain": [
       "(array([7.0000e+00, 2.7500e+02, 2.4360e+03, 1.2238e+04, 2.8348e+04,\n",
       "        3.2660e+04, 1.8285e+04, 5.0300e+03, 6.8000e+02, 4.1000e+01]),\n",
       " array([-2.53856611, -2.04922152, -1.55987692, -1.07053232, -0.58118773,\n",
       "        -0.09184313,  0.39750147,  0.88684607,  1.37619066,  1.86553526,\n",
       "         2.35487986]),\n",
       " <BarContainer object of 10 artists>)"
      ]
     },
     "execution_count": 30,
     "metadata": {},
     "output_type": "execute_result"
    },
    {
     "data": {
      "image/png": "[encoded data removed]",
      "text/plain": [
       "<Figure size 640x480 with 1 Axes>"
      ]
     },
     "metadata": {},
     "output_type": "display_data"
    }
   ],
   "source": [
    "plt.hist(S.cpu().detach().numpy())"
   ]
  },
  {
   "cell_type": "code",
   "execution_count": 32,
   "id": "9e1fab67-4a26-43df-a7de-d27ae09c2c7b",
   "metadata": {},
   "outputs": [
    {
     "data": {
      "text/plain": [
       "(array([20339.,  9123.,  7422.,  6643.,  6471.,  6526.,  6637.,  7220.,\n",
       "         8876., 20743.]),\n",
       " array([-0.79056942, -0.63245553, -0.47434166, -0.31622776, -0.15811388,\n",
       "         0.        ,  0.15811388,  0.31622776,  0.47434166,  0.63245553,\n",
       "         0.79056942]),\n",
       " <BarContainer object of 10 artists>)"
      ]
     },
     "execution_count": 32,
     "metadata": {},
     "output_type": "execute_result"
    },
    {
     "data": {
      "image/png": "[encoded data removed]",
      "text/plain": [
       "<Figure size 640x480 with 1 Axes>"
      ]
     },
     "metadata": {},
     "output_type": "display_data"
    }
   ],
   "source": [
    "plt.hist(Y.cpu().detach().numpy())"
   ]
  },
  {
   "cell_type": "code",
   "execution_count": null,
   "id": "6dc322c6-c9da-440a-963e-647d61873f44",
   "metadata": {},
   "outputs": [],
   "source": []
  }
 ],
 "metadata": {
  "kernelspec": {
   "display_name": "test",
   "language": "python",
   "name": "test"
  },
  "language_info": {
   "codemirror_mode": {
    "name": "ipython",
    "version": 3
   },
   "file_extension": ".py",
   "mimetype": "text/x-python",
   "name": "python",
   "nbconvert_exporter": "python",
   "pygments_lexer": "ipython3",
   "version": "3.11.5"
  }
 },
 "nbformat": 4,
 "nbformat_minor": 5
}
